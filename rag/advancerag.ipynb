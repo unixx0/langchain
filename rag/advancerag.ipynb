{
 "cells": [
  {
   "cell_type": "code",
   "execution_count": 4,
   "id": "12759d81",
   "metadata": {},
   "outputs": [],
   "source": [
    "#load pdf document\n",
    "from langchain_community.document_loaders import PyPDFLoader\n",
    "loader= PyPDFLoader(\"unit2.pdf\")\n",
    "docs= loader.load()\n"
   ]
  },
  {
   "cell_type": "code",
   "execution_count": 5,
   "id": "0a1ce3de",
   "metadata": {},
   "outputs": [],
   "source": [
    "#chunk the given document\n",
    "from langchain.text_splitter import RecursiveCharacterTextSplitter\n",
    "text_splitter= RecursiveCharacterTextSplitter(chunk_size= 1000, chunk_overlap= 200)\n",
    "documents= text_splitter.split_documents(docs)\n"
   ]
  },
  {
   "cell_type": "code",
   "execution_count": 6,
   "id": "4d5f6dd6",
   "metadata": {},
   "outputs": [],
   "source": [
    "#vector embedding and vector store\n",
    "from langchain_ollama import OllamaEmbeddings\n",
    "from langchain_community.vectorstores import FAISS\n",
    "db= FAISS.from_documents(documents[:30], OllamaEmbeddings(model= \"llama2\"))"
   ]
  },
  {
   "cell_type": "code",
   "execution_count": 7,
   "id": "087cdeef",
   "metadata": {},
   "outputs": [],
   "source": [
    "#initialize llm model\n",
    "from langchain_ollama import OllamaLLM\n",
    "llm= OllamaLLM(model= \"llama2\")"
   ]
  },
  {
   "cell_type": "code",
   "execution_count": 8,
   "id": "7dfea77a",
   "metadata": {},
   "outputs": [],
   "source": [
    "#design chatPrompt template\n",
    "from langchain_core.prompts import ChatPromptTemplate\n",
    "prompt= ChatPromptTemplate.from_template(\n",
    "    \"\"\"\n",
    "Answer the given question based on the provided context.\n",
    "Think step by step before providing a detailed answer.\n",
    "<context>\n",
    "{context}\n",
    "</context>\n",
    "Question: {input}\n",
    "\"\"\"\n",
    ")"
   ]
  },
  {
   "cell_type": "code",
   "execution_count": 9,
   "id": "125b3310",
   "metadata": {},
   "outputs": [],
   "source": [
    "from langchain.chains.combine_documents import create_stuff_documents_chain\n",
    "document_chain= create_stuff_documents_chain(llm, prompt)"
   ]
  },
  {
   "cell_type": "code",
   "execution_count": 10,
   "id": "4c15f878",
   "metadata": {},
   "outputs": [],
   "source": [
    "#adding retrival as a interface to our vectore store db\n",
    "retriever= db.as_retriever()\n"
   ]
  },
  {
   "cell_type": "code",
   "execution_count": 11,
   "id": "86c1bc86",
   "metadata": {},
   "outputs": [],
   "source": [
    "#create retriever chain that combines retriever and document chain\n",
    "from langchain.chains import create_retrieval_chain\n",
    "retrival_chain= create_retrieval_chain(retriever, document_chain )"
   ]
  },
  {
   "cell_type": "code",
   "execution_count": 12,
   "id": "3eeb8dae",
   "metadata": {},
   "outputs": [],
   "source": [
    "response= retrival_chain.invoke({\"input\": \"What is an intelligent agent?\"})"
   ]
  },
  {
   "cell_type": "code",
   "execution_count": 13,
   "id": "d7f5b9df",
   "metadata": {},
   "outputs": [
    {
     "name": "stdout",
     "output_type": "stream",
     "text": [
      "{'input': 'What is an intelligent agent?', 'context': [Document(id='510723d0-dc56-4c77-bb8a-835d225030d4', metadata={'producer': 'Microsoft® PowerPoint® 2016', 'creator': 'Microsoft® PowerPoint® 2016', 'creationdate': '2025-06-07T10:23:45+05:45', 'title': '', 'author': 'HP', 'moddate': '2025-06-07T10:23:45+05:45', 'source': 'unit2.pdf', 'total_pages': 45, 'page': 8, 'page_label': '9'}, page_content='inputs it receives from its environment.\\nAgent = Architecture + Agent Program\\n• The overall structure of an AI agent can be understood as a combination of both the architecture and \\nthe agent program. The architecture provides the physical infrastructure, while the agent program \\ndictates the decision-making and actions of the agent based on its perceptual inputs.'), Document(id='93f92da7-55db-4d55-bcd6-30d1541b9185', metadata={'producer': 'Microsoft® PowerPoint® 2016', 'creator': 'Microsoft® PowerPoint® 2016', 'creationdate': '2025-06-07T10:23:45+05:45', 'title': '', 'author': 'HP', 'moddate': '2025-06-07T10:23:45+05:45', 'source': 'unit2.pdf', 'total_pages': 45, 'page': 7, 'page_label': '8'}, page_content='Agents and Environment \\nPresented By: Saroj Bhandari\\nFig: Interaction of Agents with the Environment'), Document(id='d265f833-ad78-4687-ba3e-399e36d8efb2', metadata={'producer': 'Microsoft® PowerPoint® 2016', 'creator': 'Microsoft® PowerPoint® 2016', 'creationdate': '2025-06-07T10:23:45+05:45', 'title': '', 'author': 'HP', 'moddate': '2025-06-07T10:23:45+05:45', 'source': 'unit2.pdf', 'total_pages': 45, 'page': 18, 'page_label': '19'}, page_content=\"Examples of PEAS:\\n\\uf071Agent: Medical diagnosis system\\n\\uf071https://www.youtube.com/watch?v=C5euaa4p4Pk&ab_channel=NBCNews\\n\\uf071Performance measure: Healthy patient, minimize costs, lawsuits\\n\\uf071Environment: Patient, hospital, staff\\n\\uf071Actuators: Screen display (questions, tests, diagnoses, treatments, referrals)\\n\\uf071Sensors: Keyboard (entry of symptoms, findings, patient's answers)\\n\\uf071Agent: Part-picking robot\\n\\uf071https://www.youtube.com/watch?v=N9p6eJ1mhqk&ab_channel=MecaluxGroup\\n\\uf071Performance measure: Percentage of parts in correct bins\\n\\uf071Environment: Conveyor belt with parts, bins\\n\\uf071Actuators: Jointed arm and hand\\n\\uf071Sensors: Camera, joint angle sensors\\nPresented By: Saroj Bhandari\"), Document(id='4373485d-4920-4191-8e94-bbc14b6d6e7d', metadata={'producer': 'Microsoft® PowerPoint® 2016', 'creator': 'Microsoft® PowerPoint® 2016', 'creationdate': '2025-06-07T10:23:45+05:45', 'title': '', 'author': 'HP', 'moddate': '2025-06-07T10:23:45+05:45', 'source': 'unit2.pdf', 'total_pages': 45, 'page': 0, 'page_label': '1'}, page_content='INTELLIGENT AGENT\\nUnit 2\\nPresented By: Saroj Bhandari')], 'answer': 'An intelligent agent is a computational entity that perceives its environment through sensors, acts upon the environment through actuators, and learns from experiences. In other words, it is a program that can act in a dynamic environment to achieve specific goals. The key features of an intelligent agent are:\\n\\n1. Perception: Agents receive inputs from their environment through sensors, which can be visual, auditory, tactile, or any other type of sensor. These inputs provide the basis for decision-making and action.\\n2. Action: Agents use actuators to affect the environment. Actuators can be mechanical, electrical, or software-based and can take various forms such as a screen display, keyboard input, or a robotic arm.\\n3. Learning: Intelligent agents learn from their experiences through machine learning algorithms, statistical models, or other techniques. This enables them to adapt to changing environments and improve their performance over time.\\n4. Decision-making: Agents use reasoning, problem-solving, or decision-making algorithms to determine the best course of action based on their perceptions and goals.\\n5. Autonomy: Intelligent agents are autonomous entities that can operate independently in their environment without direct human intervention.\\n6. Interaction with environment: Agents interact with their environment through sensors and actuators, and their actions affect the environment as well.\\n7. Adaptability: Agents adapt to changing environments by learning from experiences and improving their performance over time.\\n\\nIn summary, an intelligent agent is a program that can perceive its environment, act upon it, learn from experiences, and make decisions to achieve specific goals in a dynamic environment.'}\n"
     ]
    }
   ],
   "source": [
    "print(response)"
   ]
  },
  {
   "cell_type": "code",
   "execution_count": 14,
   "id": "83fece4e",
   "metadata": {},
   "outputs": [
    {
     "name": "stdout",
     "output_type": "stream",
     "text": [
      "An intelligent agent is a computational entity that perceives its environment through sensors, acts upon the environment through actuators, and learns from experiences. In other words, it is a program that can act in a dynamic environment to achieve specific goals. The key features of an intelligent agent are:\n",
      "\n",
      "1. Perception: Agents receive inputs from their environment through sensors, which can be visual, auditory, tactile, or any other type of sensor. These inputs provide the basis for decision-making and action.\n",
      "2. Action: Agents use actuators to affect the environment. Actuators can be mechanical, electrical, or software-based and can take various forms such as a screen display, keyboard input, or a robotic arm.\n",
      "3. Learning: Intelligent agents learn from their experiences through machine learning algorithms, statistical models, or other techniques. This enables them to adapt to changing environments and improve their performance over time.\n",
      "4. Decision-making: Agents use reasoning, problem-solving, or decision-making algorithms to determine the best course of action based on their perceptions and goals.\n",
      "5. Autonomy: Intelligent agents are autonomous entities that can operate independently in their environment without direct human intervention.\n",
      "6. Interaction with environment: Agents interact with their environment through sensors and actuators, and their actions affect the environment as well.\n",
      "7. Adaptability: Agents adapt to changing environments by learning from experiences and improving their performance over time.\n",
      "\n",
      "In summary, an intelligent agent is a program that can perceive its environment, act upon it, learn from experiences, and make decisions to achieve specific goals in a dynamic environment.\n"
     ]
    }
   ],
   "source": [
    "print(response['answer'])"
   ]
  },
  {
   "cell_type": "code",
   "execution_count": null,
   "id": "1a149803",
   "metadata": {},
   "outputs": [],
   "source": []
  }
 ],
 "metadata": {
  "kernelspec": {
   "display_name": "venv",
   "language": "python",
   "name": "python3"
  },
  "language_info": {
   "codemirror_mode": {
    "name": "ipython",
    "version": 3
   },
   "file_extension": ".py",
   "mimetype": "text/x-python",
   "name": "python",
   "nbconvert_exporter": "python",
   "pygments_lexer": "ipython3",
   "version": "3.13.1"
  }
 },
 "nbformat": 4,
 "nbformat_minor": 5
}
